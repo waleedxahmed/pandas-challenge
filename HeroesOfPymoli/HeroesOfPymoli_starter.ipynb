{
 "cells": [
  {
   "cell_type": "markdown",
   "metadata": {},
   "source": [
    "### Note\n",
    "* Instructions have been included for each segment. You do not have to follow them exactly, but they are included to help you think through the steps."
   ]
  },
  {
   "cell_type": "code",
   "execution_count": 1,
   "metadata": {},
   "outputs": [],
   "source": [
    "# Dependencies and Setup\n",
    "import pandas as pd\n",
    "\n",
    "# File to Load (Remember to Change These)\n",
    "file_to_load = \"Resources/purchase_data.csv\"\n",
    "\n",
    "# Read Purchasing File and store into Pandas data frame\n",
    "purchase_data = pd.read_csv(file_to_load)"
   ]
  },
  {
   "cell_type": "markdown",
   "metadata": {},
   "source": [
    "## Player Count"
   ]
  },
  {
   "cell_type": "markdown",
   "metadata": {},
   "source": [
    "* Display the total number of players\n"
   ]
  },
  {
   "cell_type": "code",
   "execution_count": 3,
   "metadata": {},
   "outputs": [
    {
     "data": {
      "text/html": [
       "<div>\n",
       "<style scoped>\n",
       "    .dataframe tbody tr th:only-of-type {\n",
       "        vertical-align: middle;\n",
       "    }\n",
       "\n",
       "    .dataframe tbody tr th {\n",
       "        vertical-align: top;\n",
       "    }\n",
       "\n",
       "    .dataframe thead th {\n",
       "        text-align: right;\n",
       "    }\n",
       "</style>\n",
       "<table border=\"1\" class=\"dataframe\">\n",
       "  <thead>\n",
       "    <tr style=\"text-align: right;\">\n",
       "      <th></th>\n",
       "      <th>Total Players</th>\n",
       "    </tr>\n",
       "  </thead>\n",
       "  <tbody>\n",
       "    <tr>\n",
       "      <th>0</th>\n",
       "      <td>576</td>\n",
       "    </tr>\n",
       "  </tbody>\n",
       "</table>\n",
       "</div>"
      ],
      "text/plain": [
       "   Total Players\n",
       "0            576"
      ]
     },
     "execution_count": 3,
     "metadata": {},
     "output_type": "execute_result"
    }
   ],
   "source": [
    "# Total number of players Data Frame\n",
    "total_players = len(purchase_data[\"SN\"].value_counts())\n",
    "player_count = pd.DataFrame({\"Total Players\":[total_players]})\n",
    "player_count"
   ]
  },
  {
   "cell_type": "markdown",
   "metadata": {},
   "source": [
    "## Purchasing Analysis (Total)"
   ]
  },
  {
   "cell_type": "markdown",
   "metadata": {},
   "source": [
    "* Run basic calculations to obtain number of unique items, average price, etc.\n",
    "\n",
    "\n",
    "* Create a summary data frame to hold the results\n",
    "\n",
    "\n",
    "* Optional: give the displayed data cleaner formatting\n",
    "\n",
    "\n",
    "* Display the summary data frame\n"
   ]
  },
  {
   "cell_type": "code",
   "execution_count": 5,
   "metadata": {
    "scrolled": true
   },
   "outputs": [
    {
     "data": {
      "text/html": [
       "<style  type=\"text/css\" >\n",
       "</style><table id=\"T_92a5b87e_71e2_11ea_bf9f_3ccd3661c1ec\" ><thead>    <tr>        <th class=\"blank level0\" ></th>        <th class=\"col_heading level0 col0\" >Number of Unique Items</th>        <th class=\"col_heading level0 col1\" >Average Price</th>        <th class=\"col_heading level0 col2\" >Number of Purchases</th>        <th class=\"col_heading level0 col3\" >Total Revenue</th>    </tr></thead><tbody>\n",
       "                <tr>\n",
       "                        <th id=\"T_92a5b87e_71e2_11ea_bf9f_3ccd3661c1eclevel0_row0\" class=\"row_heading level0 row0\" >0</th>\n",
       "                        <td id=\"T_92a5b87e_71e2_11ea_bf9f_3ccd3661c1ecrow0_col0\" class=\"data row0 col0\" >183</td>\n",
       "                        <td id=\"T_92a5b87e_71e2_11ea_bf9f_3ccd3661c1ecrow0_col1\" class=\"data row0 col1\" >$3.05</td>\n",
       "                        <td id=\"T_92a5b87e_71e2_11ea_bf9f_3ccd3661c1ecrow0_col2\" class=\"data row0 col2\" >780</td>\n",
       "                        <td id=\"T_92a5b87e_71e2_11ea_bf9f_3ccd3661c1ecrow0_col3\" class=\"data row0 col3\" >$2,379.77</td>\n",
       "            </tr>\n",
       "    </tbody></table>"
      ],
      "text/plain": [
       "<pandas.io.formats.style.Styler at 0x7fbfa2488cc0>"
      ]
     },
     "execution_count": 5,
     "metadata": {},
     "output_type": "execute_result"
    }
   ],
   "source": [
    "# Calculations for unique unique items, average price, etc\n",
    "number_of_unique_items = len((purchase_data[\"Item ID\"]).unique())\n",
    "average_price = (purchase_data[\"Price\"]).mean()\n",
    "number_of_purchases = (purchase_data[\"Purchase ID\"]).count()\n",
    "total_revenue = (purchase_data[\"Price\"]).sum()\n",
    "\n",
    "# Data Frame\n",
    "summary_df = pd.DataFrame({\"Number of Unique Items\":[number_of_unique_items],\n",
    "                           \"Average Price\":[average_price], \n",
    "                           \"Number of Purchases\": [number_of_purchases], \n",
    "                           \"Total Revenue\": [total_revenue]})\n",
    "\n",
    "# Formatting\n",
    "summary_df.style.format({'Average Price':\"${:,.2f}\",\n",
    "                         'Total Revenue':'${:,.2f}'})"
   ]
  },
  {
   "cell_type": "markdown",
   "metadata": {},
   "source": [
    "## Gender Demographics"
   ]
  },
  {
   "cell_type": "markdown",
   "metadata": {},
   "source": [
    "* Percentage and Count of Male Players\n",
    "\n",
    "\n",
    "* Percentage and Count of Female Players\n",
    "\n",
    "\n",
    "* Percentage and Count of Other / Non-Disclosed\n",
    "\n",
    "\n"
   ]
  },
  {
   "cell_type": "code",
   "execution_count": 7,
   "metadata": {},
   "outputs": [
    {
     "data": {
      "text/html": [
       "<style  type=\"text/css\" >\n",
       "</style><table id=\"T_f7f51e06_71e2_11ea_8a7e_3ccd3661c1ec\" ><thead>    <tr>        <th class=\"blank level0\" ></th>        <th class=\"col_heading level0 col0\" >Percentage of Players</th>        <th class=\"col_heading level0 col1\" >Total Count</th>    </tr></thead><tbody>\n",
       "                <tr>\n",
       "                        <th id=\"T_f7f51e06_71e2_11ea_8a7e_3ccd3661c1eclevel0_row0\" class=\"row_heading level0 row0\" >Male</th>\n",
       "                        <td id=\"T_f7f51e06_71e2_11ea_8a7e_3ccd3661c1ecrow0_col0\" class=\"data row0 col0\" >84.03</td>\n",
       "                        <td id=\"T_f7f51e06_71e2_11ea_8a7e_3ccd3661c1ecrow0_col1\" class=\"data row0 col1\" >484</td>\n",
       "            </tr>\n",
       "            <tr>\n",
       "                        <th id=\"T_f7f51e06_71e2_11ea_8a7e_3ccd3661c1eclevel0_row1\" class=\"row_heading level0 row1\" >Female</th>\n",
       "                        <td id=\"T_f7f51e06_71e2_11ea_8a7e_3ccd3661c1ecrow1_col0\" class=\"data row1 col0\" >14.06</td>\n",
       "                        <td id=\"T_f7f51e06_71e2_11ea_8a7e_3ccd3661c1ecrow1_col1\" class=\"data row1 col1\" >81</td>\n",
       "            </tr>\n",
       "            <tr>\n",
       "                        <th id=\"T_f7f51e06_71e2_11ea_8a7e_3ccd3661c1eclevel0_row2\" class=\"row_heading level0 row2\" >Other / Non-Disclosed</th>\n",
       "                        <td id=\"T_f7f51e06_71e2_11ea_8a7e_3ccd3661c1ecrow2_col0\" class=\"data row2 col0\" >1.91</td>\n",
       "                        <td id=\"T_f7f51e06_71e2_11ea_8a7e_3ccd3661c1ecrow2_col1\" class=\"data row2 col1\" >11</td>\n",
       "            </tr>\n",
       "    </tbody></table>"
      ],
      "text/plain": [
       "<pandas.io.formats.style.Styler at 0x7fbf901ed588>"
      ]
     },
     "execution_count": 7,
     "metadata": {},
     "output_type": "execute_result"
    }
   ],
   "source": [
    "# Group by Gender\n",
    "gender_stats = purchase_data.groupby(\"Gender\")\n",
    "\n",
    "# Total of screen names \"SN\" by gender\n",
    "total_count_gender = gender_stats.nunique()[\"SN\"]\n",
    "\n",
    "# Total count by gender and divivde by total players \n",
    "percentage_of_players = total_count_gender / total_players * 100\n",
    "\n",
    "# Data Frame\n",
    "gender_demographics = pd.DataFrame({\"Percentage of Players\": percentage_of_players, \"Total Count\": total_count_gender})\n",
    "\n",
    "# Format Data Frame\n",
    "gender_demographics.index.name = None\n",
    "\n",
    "# Format \n",
    "gender_demographics.sort_values([\"Total Count\"], ascending = False).style.format({\"Percentage of Players\":\"{:.2f}\"})"
   ]
  },
  {
   "cell_type": "markdown",
   "metadata": {},
   "source": [
    "\n",
    "## Purchasing Analysis (Gender)"
   ]
  },
  {
   "cell_type": "markdown",
   "metadata": {},
   "source": [
    "* Run basic calculations to obtain purchase count, avg. purchase price, avg. purchase total per person etc. by gender\n",
    "\n",
    "\n",
    "\n",
    "\n",
    "* Create a summary data frame to hold the results\n",
    "\n",
    "\n",
    "* Optional: give the displayed data cleaner formatting\n",
    "\n",
    "\n",
    "* Display the summary data frame"
   ]
  },
  {
   "cell_type": "code",
   "execution_count": 5,
   "metadata": {},
   "outputs": [
    {
     "data": {
      "text/html": [
       "<div>\n",
       "<style scoped>\n",
       "    .dataframe tbody tr th:only-of-type {\n",
       "        vertical-align: middle;\n",
       "    }\n",
       "\n",
       "    .dataframe tbody tr th {\n",
       "        vertical-align: top;\n",
       "    }\n",
       "\n",
       "    .dataframe thead th {\n",
       "        text-align: right;\n",
       "    }\n",
       "</style>\n",
       "<table border=\"1\" class=\"dataframe\">\n",
       "  <thead>\n",
       "    <tr style=\"text-align: right;\">\n",
       "      <th></th>\n",
       "      <th>Purchase Count</th>\n",
       "      <th>Average Purchase Price</th>\n",
       "      <th>Total Purchase Value</th>\n",
       "      <th>Avg Total Purchase per Person</th>\n",
       "    </tr>\n",
       "    <tr>\n",
       "      <th>Gender</th>\n",
       "      <th></th>\n",
       "      <th></th>\n",
       "      <th></th>\n",
       "      <th></th>\n",
       "    </tr>\n",
       "  </thead>\n",
       "  <tbody>\n",
       "    <tr>\n",
       "      <th>Female</th>\n",
       "      <td>113</td>\n",
       "      <td>$3.20</td>\n",
       "      <td>$361.94</td>\n",
       "      <td>$4.47</td>\n",
       "    </tr>\n",
       "    <tr>\n",
       "      <th>Male</th>\n",
       "      <td>652</td>\n",
       "      <td>$3.02</td>\n",
       "      <td>$1,967.64</td>\n",
       "      <td>$4.07</td>\n",
       "    </tr>\n",
       "    <tr>\n",
       "      <th>Other / Non-Disclosed</th>\n",
       "      <td>15</td>\n",
       "      <td>$3.35</td>\n",
       "      <td>$50.19</td>\n",
       "      <td>$4.56</td>\n",
       "    </tr>\n",
       "  </tbody>\n",
       "</table>\n",
       "</div>"
      ],
      "text/plain": [
       "                      Purchase Count Average Purchase Price  \\\n",
       "Gender                                                        \n",
       "Female                           113                  $3.20   \n",
       "Male                             652                  $3.02   \n",
       "Other / Non-Disclosed             15                  $3.35   \n",
       "\n",
       "                      Total Purchase Value Avg Total Purchase per Person  \n",
       "Gender                                                                    \n",
       "Female                             $361.94                         $4.47  \n",
       "Male                             $1,967.64                         $4.07  \n",
       "Other / Non-Disclosed               $50.19                         $4.56  "
      ]
     },
     "execution_count": 5,
     "metadata": {},
     "output_type": "execute_result"
    }
   ],
   "source": [
    "# Total purchases by gender\n",
    "purchase_count = gender_stats[\"Purchase ID\"].count()\n",
    "\n",
    "# Average purchase prices by gender\n",
    "avg_purchase_price = gender_stats[\"Price\"].mean()\n",
    "\n",
    "# Average purchase total by gender \n",
    "avg_purchase_total = gender_stats[\"Price\"].sum()\n",
    "\n",
    "# Average purchase total by gender divivded by purchase count by unique shoppers\n",
    "avg_purchase_per_person = avg_purchase_total/total_count_gender\n",
    "\n",
    "# Data Frame \n",
    "gender_demographics = pd.DataFrame({\"Purchase Count\": purchase_count, \n",
    "                                    \"Average Purchase Price\": avg_purchase_price,\n",
    "                                    \"Average Purchase Value\":avg_purchase_total,\n",
    "                                    \"Avg Purchase Total per Person\": avg_purchase_per_person})\n",
    "\n",
    "# Index Format\n",
    "gender_demographics.index.name = \"Gender\"\n",
    "\n",
    "# Format with currency style\n",
    "gender_demographics.style.format({\"Average Purchase Value\":\"${:,.2f}\",\n",
    "                                  \"Average Purchase Price\":\"${:,.2f}\",\n",
    "                                  \"Avg Purchase Total per Person\":\"${:,.2f}\"})"
   ]
  },
  {
   "cell_type": "markdown",
   "metadata": {},
   "source": [
    "## Age Demographics"
   ]
  },
  {
   "cell_type": "markdown",
   "metadata": {},
   "source": [
    "* Establish bins for ages\n",
    "\n",
    "\n",
    "* Categorize the existing players using the age bins. Hint: use pd.cut()\n",
    "\n",
    "\n",
    "* Calculate the numbers and percentages by age group\n",
    "\n",
    "\n",
    "* Create a summary data frame to hold the results\n",
    "\n",
    "\n",
    "* Optional: round the percentage column to two decimal points\n",
    "\n",
    "\n",
    "* Display Age Demographics Table\n"
   ]
  },
  {
   "cell_type": "code",
   "execution_count": 10,
   "metadata": {},
   "outputs": [
    {
     "data": {
      "text/html": [
       "<style  type=\"text/css\" >\n",
       "</style><table id=\"T_29d00902_71e3_11ea_a152_3ccd3661c1ec\" ><thead>    <tr>        <th class=\"blank level0\" ></th>        <th class=\"col_heading level0 col0\" >Percentage of Players</th>        <th class=\"col_heading level0 col1\" >Total Count</th>    </tr></thead><tbody>\n",
       "                <tr>\n",
       "                        <th id=\"T_29d00902_71e3_11ea_a152_3ccd3661c1eclevel0_row0\" class=\"row_heading level0 row0\" ><10</th>\n",
       "                        <td id=\"T_29d00902_71e3_11ea_a152_3ccd3661c1ecrow0_col0\" class=\"data row0 col0\" >2.95</td>\n",
       "                        <td id=\"T_29d00902_71e3_11ea_a152_3ccd3661c1ecrow0_col1\" class=\"data row0 col1\" >17</td>\n",
       "            </tr>\n",
       "            <tr>\n",
       "                        <th id=\"T_29d00902_71e3_11ea_a152_3ccd3661c1eclevel0_row1\" class=\"row_heading level0 row1\" >10-14</th>\n",
       "                        <td id=\"T_29d00902_71e3_11ea_a152_3ccd3661c1ecrow1_col0\" class=\"data row1 col0\" >3.82</td>\n",
       "                        <td id=\"T_29d00902_71e3_11ea_a152_3ccd3661c1ecrow1_col1\" class=\"data row1 col1\" >22</td>\n",
       "            </tr>\n",
       "            <tr>\n",
       "                        <th id=\"T_29d00902_71e3_11ea_a152_3ccd3661c1eclevel0_row2\" class=\"row_heading level0 row2\" >15-19</th>\n",
       "                        <td id=\"T_29d00902_71e3_11ea_a152_3ccd3661c1ecrow2_col0\" class=\"data row2 col0\" >18.58</td>\n",
       "                        <td id=\"T_29d00902_71e3_11ea_a152_3ccd3661c1ecrow2_col1\" class=\"data row2 col1\" >107</td>\n",
       "            </tr>\n",
       "            <tr>\n",
       "                        <th id=\"T_29d00902_71e3_11ea_a152_3ccd3661c1eclevel0_row3\" class=\"row_heading level0 row3\" >20-24</th>\n",
       "                        <td id=\"T_29d00902_71e3_11ea_a152_3ccd3661c1ecrow3_col0\" class=\"data row3 col0\" >44.79</td>\n",
       "                        <td id=\"T_29d00902_71e3_11ea_a152_3ccd3661c1ecrow3_col1\" class=\"data row3 col1\" >258</td>\n",
       "            </tr>\n",
       "            <tr>\n",
       "                        <th id=\"T_29d00902_71e3_11ea_a152_3ccd3661c1eclevel0_row4\" class=\"row_heading level0 row4\" >25-29</th>\n",
       "                        <td id=\"T_29d00902_71e3_11ea_a152_3ccd3661c1ecrow4_col0\" class=\"data row4 col0\" >13.37</td>\n",
       "                        <td id=\"T_29d00902_71e3_11ea_a152_3ccd3661c1ecrow4_col1\" class=\"data row4 col1\" >77</td>\n",
       "            </tr>\n",
       "            <tr>\n",
       "                        <th id=\"T_29d00902_71e3_11ea_a152_3ccd3661c1eclevel0_row5\" class=\"row_heading level0 row5\" >30-34</th>\n",
       "                        <td id=\"T_29d00902_71e3_11ea_a152_3ccd3661c1ecrow5_col0\" class=\"data row5 col0\" >9.03</td>\n",
       "                        <td id=\"T_29d00902_71e3_11ea_a152_3ccd3661c1ecrow5_col1\" class=\"data row5 col1\" >52</td>\n",
       "            </tr>\n",
       "            <tr>\n",
       "                        <th id=\"T_29d00902_71e3_11ea_a152_3ccd3661c1eclevel0_row6\" class=\"row_heading level0 row6\" >35-39</th>\n",
       "                        <td id=\"T_29d00902_71e3_11ea_a152_3ccd3661c1ecrow6_col0\" class=\"data row6 col0\" >5.38</td>\n",
       "                        <td id=\"T_29d00902_71e3_11ea_a152_3ccd3661c1ecrow6_col1\" class=\"data row6 col1\" >31</td>\n",
       "            </tr>\n",
       "            <tr>\n",
       "                        <th id=\"T_29d00902_71e3_11ea_a152_3ccd3661c1eclevel0_row7\" class=\"row_heading level0 row7\" >40+</th>\n",
       "                        <td id=\"T_29d00902_71e3_11ea_a152_3ccd3661c1ecrow7_col0\" class=\"data row7 col0\" >2.08</td>\n",
       "                        <td id=\"T_29d00902_71e3_11ea_a152_3ccd3661c1ecrow7_col1\" class=\"data row7 col1\" >12</td>\n",
       "            </tr>\n",
       "    </tbody></table>"
      ],
      "text/plain": [
       "<pandas.io.formats.style.Styler at 0x7fbfa24dbfd0>"
      ]
     },
     "execution_count": 10,
     "metadata": {},
     "output_type": "execute_result"
    }
   ],
   "source": [
    "# Age bins\n",
    "age_bins = [0, 9.90, 14.90, 19.90, 24.90, 29.90, 34.90, 39.90, 99999]\n",
    "group_names = [\"<10\", \"10-14\", \"15-19\", \"20-24\", \"25-29\", \"30-34\", \"35-39\", \"40+\"]\n",
    "\n",
    "# Labels\n",
    "purchase_data[\"Age Group\"] = pd.cut(purchase_data[\"Age\"],age_bins, labels=group_names)\n",
    "purchase_data\n",
    "\n",
    "# Data Frame\n",
    "age_grouped = purchase_data.groupby(\"Age Group\")\n",
    "\n",
    "# Count total players by age category\n",
    "total_count_age = age_grouped[\"SN\"].nunique()\n",
    "\n",
    "# Percentages \n",
    "percentage_by_age = (total_count_age/total_players) * 100\n",
    "\n",
    "# Data Frame\n",
    "age_demographics = pd.DataFrame({\"Percentage of Players\": percentage_by_age, \"Total Count\": total_count_age})\n",
    "\n",
    "# Format Data Frame\n",
    "age_demographics.index.name = None\n",
    "\n",
    "# Change to percentage\n",
    "age_demographics.style.format({\"Percentage of Players\":\"{:,.2f}\"})"
   ]
  },
  {
   "cell_type": "markdown",
   "metadata": {},
   "source": [
    "## Purchasing Analysis (Age)"
   ]
  },
  {
   "cell_type": "markdown",
   "metadata": {},
   "source": [
    "* Bin the purchase_data data frame by age\n",
    "\n",
    "\n",
    "* Run basic calculations to obtain purchase count, avg. purchase price, avg. purchase total per person etc. in the table below\n",
    "\n",
    "\n",
    "* Create a summary data frame to hold the results\n",
    "\n",
    "\n",
    "* Optional: give the displayed data cleaner formatting\n",
    "\n",
    "\n",
    "* Display the summary data frame"
   ]
  },
  {
   "cell_type": "code",
   "execution_count": 11,
   "metadata": {},
   "outputs": [
    {
     "data": {
      "text/html": [
       "<style  type=\"text/css\" >\n",
       "</style><table id=\"T_2ab41124_71e3_11ea_b54e_3ccd3661c1ec\" ><thead>    <tr>        <th class=\"blank level0\" ></th>        <th class=\"col_heading level0 col0\" >Purchase Count</th>        <th class=\"col_heading level0 col1\" >Average Purchase Price</th>        <th class=\"col_heading level0 col2\" >Total Purchase Value</th>        <th class=\"col_heading level0 col3\" >Average Purchase Total per Person</th>    </tr></thead><tbody>\n",
       "                <tr>\n",
       "                        <th id=\"T_2ab41124_71e3_11ea_b54e_3ccd3661c1eclevel0_row0\" class=\"row_heading level0 row0\" ><10</th>\n",
       "                        <td id=\"T_2ab41124_71e3_11ea_b54e_3ccd3661c1ecrow0_col0\" class=\"data row0 col0\" >23</td>\n",
       "                        <td id=\"T_2ab41124_71e3_11ea_b54e_3ccd3661c1ecrow0_col1\" class=\"data row0 col1\" >$3.35</td>\n",
       "                        <td id=\"T_2ab41124_71e3_11ea_b54e_3ccd3661c1ecrow0_col2\" class=\"data row0 col2\" >$77.13</td>\n",
       "                        <td id=\"T_2ab41124_71e3_11ea_b54e_3ccd3661c1ecrow0_col3\" class=\"data row0 col3\" >$4.54</td>\n",
       "            </tr>\n",
       "            <tr>\n",
       "                        <th id=\"T_2ab41124_71e3_11ea_b54e_3ccd3661c1eclevel0_row1\" class=\"row_heading level0 row1\" >10-14</th>\n",
       "                        <td id=\"T_2ab41124_71e3_11ea_b54e_3ccd3661c1ecrow1_col0\" class=\"data row1 col0\" >28</td>\n",
       "                        <td id=\"T_2ab41124_71e3_11ea_b54e_3ccd3661c1ecrow1_col1\" class=\"data row1 col1\" >$2.96</td>\n",
       "                        <td id=\"T_2ab41124_71e3_11ea_b54e_3ccd3661c1ecrow1_col2\" class=\"data row1 col2\" >$82.78</td>\n",
       "                        <td id=\"T_2ab41124_71e3_11ea_b54e_3ccd3661c1ecrow1_col3\" class=\"data row1 col3\" >$3.76</td>\n",
       "            </tr>\n",
       "            <tr>\n",
       "                        <th id=\"T_2ab41124_71e3_11ea_b54e_3ccd3661c1eclevel0_row2\" class=\"row_heading level0 row2\" >15-19</th>\n",
       "                        <td id=\"T_2ab41124_71e3_11ea_b54e_3ccd3661c1ecrow2_col0\" class=\"data row2 col0\" >136</td>\n",
       "                        <td id=\"T_2ab41124_71e3_11ea_b54e_3ccd3661c1ecrow2_col1\" class=\"data row2 col1\" >$3.04</td>\n",
       "                        <td id=\"T_2ab41124_71e3_11ea_b54e_3ccd3661c1ecrow2_col2\" class=\"data row2 col2\" >$412.89</td>\n",
       "                        <td id=\"T_2ab41124_71e3_11ea_b54e_3ccd3661c1ecrow2_col3\" class=\"data row2 col3\" >$3.86</td>\n",
       "            </tr>\n",
       "            <tr>\n",
       "                        <th id=\"T_2ab41124_71e3_11ea_b54e_3ccd3661c1eclevel0_row3\" class=\"row_heading level0 row3\" >20-24</th>\n",
       "                        <td id=\"T_2ab41124_71e3_11ea_b54e_3ccd3661c1ecrow3_col0\" class=\"data row3 col0\" >365</td>\n",
       "                        <td id=\"T_2ab41124_71e3_11ea_b54e_3ccd3661c1ecrow3_col1\" class=\"data row3 col1\" >$3.05</td>\n",
       "                        <td id=\"T_2ab41124_71e3_11ea_b54e_3ccd3661c1ecrow3_col2\" class=\"data row3 col2\" >$1,114.06</td>\n",
       "                        <td id=\"T_2ab41124_71e3_11ea_b54e_3ccd3661c1ecrow3_col3\" class=\"data row3 col3\" >$4.32</td>\n",
       "            </tr>\n",
       "            <tr>\n",
       "                        <th id=\"T_2ab41124_71e3_11ea_b54e_3ccd3661c1eclevel0_row4\" class=\"row_heading level0 row4\" >25-29</th>\n",
       "                        <td id=\"T_2ab41124_71e3_11ea_b54e_3ccd3661c1ecrow4_col0\" class=\"data row4 col0\" >101</td>\n",
       "                        <td id=\"T_2ab41124_71e3_11ea_b54e_3ccd3661c1ecrow4_col1\" class=\"data row4 col1\" >$2.90</td>\n",
       "                        <td id=\"T_2ab41124_71e3_11ea_b54e_3ccd3661c1ecrow4_col2\" class=\"data row4 col2\" >$293.00</td>\n",
       "                        <td id=\"T_2ab41124_71e3_11ea_b54e_3ccd3661c1ecrow4_col3\" class=\"data row4 col3\" >$3.81</td>\n",
       "            </tr>\n",
       "            <tr>\n",
       "                        <th id=\"T_2ab41124_71e3_11ea_b54e_3ccd3661c1eclevel0_row5\" class=\"row_heading level0 row5\" >30-34</th>\n",
       "                        <td id=\"T_2ab41124_71e3_11ea_b54e_3ccd3661c1ecrow5_col0\" class=\"data row5 col0\" >73</td>\n",
       "                        <td id=\"T_2ab41124_71e3_11ea_b54e_3ccd3661c1ecrow5_col1\" class=\"data row5 col1\" >$2.93</td>\n",
       "                        <td id=\"T_2ab41124_71e3_11ea_b54e_3ccd3661c1ecrow5_col2\" class=\"data row5 col2\" >$214.00</td>\n",
       "                        <td id=\"T_2ab41124_71e3_11ea_b54e_3ccd3661c1ecrow5_col3\" class=\"data row5 col3\" >$4.12</td>\n",
       "            </tr>\n",
       "            <tr>\n",
       "                        <th id=\"T_2ab41124_71e3_11ea_b54e_3ccd3661c1eclevel0_row6\" class=\"row_heading level0 row6\" >35-39</th>\n",
       "                        <td id=\"T_2ab41124_71e3_11ea_b54e_3ccd3661c1ecrow6_col0\" class=\"data row6 col0\" >41</td>\n",
       "                        <td id=\"T_2ab41124_71e3_11ea_b54e_3ccd3661c1ecrow6_col1\" class=\"data row6 col1\" >$3.60</td>\n",
       "                        <td id=\"T_2ab41124_71e3_11ea_b54e_3ccd3661c1ecrow6_col2\" class=\"data row6 col2\" >$147.67</td>\n",
       "                        <td id=\"T_2ab41124_71e3_11ea_b54e_3ccd3661c1ecrow6_col3\" class=\"data row6 col3\" >$4.76</td>\n",
       "            </tr>\n",
       "            <tr>\n",
       "                        <th id=\"T_2ab41124_71e3_11ea_b54e_3ccd3661c1eclevel0_row7\" class=\"row_heading level0 row7\" >40+</th>\n",
       "                        <td id=\"T_2ab41124_71e3_11ea_b54e_3ccd3661c1ecrow7_col0\" class=\"data row7 col0\" >13</td>\n",
       "                        <td id=\"T_2ab41124_71e3_11ea_b54e_3ccd3661c1ecrow7_col1\" class=\"data row7 col1\" >$2.94</td>\n",
       "                        <td id=\"T_2ab41124_71e3_11ea_b54e_3ccd3661c1ecrow7_col2\" class=\"data row7 col2\" >$38.24</td>\n",
       "                        <td id=\"T_2ab41124_71e3_11ea_b54e_3ccd3661c1ecrow7_col3\" class=\"data row7 col3\" >$3.19</td>\n",
       "            </tr>\n",
       "    </tbody></table>"
      ],
      "text/plain": [
       "<pandas.io.formats.style.Styler at 0x7fbfc0383470>"
      ]
     },
     "execution_count": 11,
     "metadata": {},
     "output_type": "execute_result"
    }
   ],
   "source": [
    "# Count purchases by age group\n",
    "purchase_count_age = age_grouped[\"Purchase ID\"].count()\n",
    "\n",
    "# Find mean/average\n",
    "avg_purchase_price_age = age_grouped[\"Price\"].mean()\n",
    "\n",
    "# Calculate total purchase value by age group \n",
    "total_purchase_value = age_grouped[\"Price\"].sum()\n",
    "\n",
    "# Calculate the average purchase per person in the age group \n",
    "avg_purchase_per_person_age = total_purchase_value/total_count_age\n",
    "\n",
    "# Data Frame\n",
    "age_demographics = pd.DataFrame({\"Purchase Count\": purchase_count_age,\n",
    "                                 \"Average Purchase Price\": avg_purchase_price_age,\n",
    "                                 \"Total Purchase Value\":total_purchase_value,\n",
    "                                 \"Average Purchase Total per Person\": avg_purchase_per_person_age})\n",
    "\n",
    "# Format index\n",
    "age_demographics.index.name = None\n",
    "\n",
    "# Format with currency style\n",
    "age_demographics.style.format({\"Average Purchase Price\":\"${:,.2f}\",\n",
    "                               \"Total Purchase Value\":\"${:,.2f}\",\n",
    "                               \"Average Purchase Total per Person\":\"${:,.2f}\"})"
   ]
  },
  {
   "cell_type": "markdown",
   "metadata": {},
   "source": [
    "## Top Spenders"
   ]
  },
  {
   "cell_type": "markdown",
   "metadata": {},
   "source": [
    "* Run basic calculations to obtain the results in the table below\n",
    "\n",
    "\n",
    "* Create a summary data frame to hold the results\n",
    "\n",
    "\n",
    "* Sort the total purchase value column in descending order\n",
    "\n",
    "\n",
    "* Optional: give the displayed data cleaner formatting\n",
    "\n",
    "\n",
    "* Display a preview of the summary data frame\n",
    "\n"
   ]
  },
  {
   "cell_type": "code",
   "execution_count": 12,
   "metadata": {},
   "outputs": [
    {
     "data": {
      "text/html": [
       "<style  type=\"text/css\" >\n",
       "</style><table id=\"T_36345306_71e3_11ea_a577_3ccd3661c1ec\" ><thead>    <tr>        <th class=\"blank level0\" ></th>        <th class=\"col_heading level0 col0\" >Purchase Count</th>        <th class=\"col_heading level0 col1\" >Average Purchase Price</th>        <th class=\"col_heading level0 col2\" >Total Purchase Value</th>    </tr>    <tr>        <th class=\"index_name level0\" >SN</th>        <th class=\"blank\" ></th>        <th class=\"blank\" ></th>        <th class=\"blank\" ></th>    </tr></thead><tbody>\n",
       "                <tr>\n",
       "                        <th id=\"T_36345306_71e3_11ea_a577_3ccd3661c1eclevel0_row0\" class=\"row_heading level0 row0\" >Lisosia93</th>\n",
       "                        <td id=\"T_36345306_71e3_11ea_a577_3ccd3661c1ecrow0_col0\" class=\"data row0 col0\" >5</td>\n",
       "                        <td id=\"T_36345306_71e3_11ea_a577_3ccd3661c1ecrow0_col1\" class=\"data row0 col1\" >$3.79</td>\n",
       "                        <td id=\"T_36345306_71e3_11ea_a577_3ccd3661c1ecrow0_col2\" class=\"data row0 col2\" >$18.96</td>\n",
       "            </tr>\n",
       "            <tr>\n",
       "                        <th id=\"T_36345306_71e3_11ea_a577_3ccd3661c1eclevel0_row1\" class=\"row_heading level0 row1\" >Idastidru52</th>\n",
       "                        <td id=\"T_36345306_71e3_11ea_a577_3ccd3661c1ecrow1_col0\" class=\"data row1 col0\" >4</td>\n",
       "                        <td id=\"T_36345306_71e3_11ea_a577_3ccd3661c1ecrow1_col1\" class=\"data row1 col1\" >$3.86</td>\n",
       "                        <td id=\"T_36345306_71e3_11ea_a577_3ccd3661c1ecrow1_col2\" class=\"data row1 col2\" >$15.45</td>\n",
       "            </tr>\n",
       "            <tr>\n",
       "                        <th id=\"T_36345306_71e3_11ea_a577_3ccd3661c1eclevel0_row2\" class=\"row_heading level0 row2\" >Chamjask73</th>\n",
       "                        <td id=\"T_36345306_71e3_11ea_a577_3ccd3661c1ecrow2_col0\" class=\"data row2 col0\" >3</td>\n",
       "                        <td id=\"T_36345306_71e3_11ea_a577_3ccd3661c1ecrow2_col1\" class=\"data row2 col1\" >$4.61</td>\n",
       "                        <td id=\"T_36345306_71e3_11ea_a577_3ccd3661c1ecrow2_col2\" class=\"data row2 col2\" >$13.83</td>\n",
       "            </tr>\n",
       "            <tr>\n",
       "                        <th id=\"T_36345306_71e3_11ea_a577_3ccd3661c1eclevel0_row3\" class=\"row_heading level0 row3\" >Iral74</th>\n",
       "                        <td id=\"T_36345306_71e3_11ea_a577_3ccd3661c1ecrow3_col0\" class=\"data row3 col0\" >4</td>\n",
       "                        <td id=\"T_36345306_71e3_11ea_a577_3ccd3661c1ecrow3_col1\" class=\"data row3 col1\" >$3.40</td>\n",
       "                        <td id=\"T_36345306_71e3_11ea_a577_3ccd3661c1ecrow3_col2\" class=\"data row3 col2\" >$13.62</td>\n",
       "            </tr>\n",
       "            <tr>\n",
       "                        <th id=\"T_36345306_71e3_11ea_a577_3ccd3661c1eclevel0_row4\" class=\"row_heading level0 row4\" >Iskadarya95</th>\n",
       "                        <td id=\"T_36345306_71e3_11ea_a577_3ccd3661c1ecrow4_col0\" class=\"data row4 col0\" >3</td>\n",
       "                        <td id=\"T_36345306_71e3_11ea_a577_3ccd3661c1ecrow4_col1\" class=\"data row4 col1\" >$4.37</td>\n",
       "                        <td id=\"T_36345306_71e3_11ea_a577_3ccd3661c1ecrow4_col2\" class=\"data row4 col2\" >$13.10</td>\n",
       "            </tr>\n",
       "    </tbody></table>"
      ],
      "text/plain": [
       "<pandas.io.formats.style.Styler at 0x7fbfa24f34e0>"
      ]
     },
     "execution_count": 12,
     "metadata": {},
     "output_type": "execute_result"
    }
   ],
   "source": [
    "# Group purchase data by screen names (SN)\n",
    "spender_stats = purchase_data.groupby(\"SN\")\n",
    "\n",
    "# Count the total purchases by name\n",
    "purchase_count_spender = spender_stats[\"Purchase ID\"].count()\n",
    "\n",
    "# Calculate the average purchase by name \n",
    "avg_purchase_price_spender = spender_stats[\"Price\"].mean()\n",
    "\n",
    "# Calculate total\n",
    "purchase_total_spender = spender_stats[\"Price\"].sum()\n",
    "\n",
    "# Data Frame\n",
    "top_spenders = pd.DataFrame({\"Purchase Count\": purchase_count_spender,\n",
    "                             \"Average Purchase Price\": avg_purchase_price_spender,\n",
    "                             \"Total Purchase Value\":purchase_total_spender})\n",
    "\n",
    "# Sort \n",
    "formatted_spenders = top_spenders.sort_values([\"Total Purchase Value\"], ascending=False).head()\n",
    "\n",
    "# Format with currency style\n",
    "formatted_spenders.style.format({\"Average Purchase Total\":\"${:,.2f}\",\n",
    "                                 \"Average Purchase Price\":\"${:,.2f}\", \n",
    "                                 \"Total Purchase Value\":\"${:,.2f}\"})"
   ]
  },
  {
   "cell_type": "markdown",
   "metadata": {},
   "source": [
    "## Most Popular Items"
   ]
  },
  {
   "cell_type": "markdown",
   "metadata": {},
   "source": [
    "* Retrieve the Item ID, Item Name, and Item Price columns\n",
    "\n",
    "\n",
    "* Group by Item ID and Item Name. Perform calculations to obtain purchase count, item price, and total purchase value\n",
    "\n",
    "\n",
    "* Create a summary data frame to hold the results\n",
    "\n",
    "\n",
    "* Sort the purchase count column in descending order\n",
    "\n",
    "\n",
    "* Optional: give the displayed data cleaner formatting\n",
    "\n",
    "\n",
    "* Display a preview of the summary data frame\n",
    "\n"
   ]
  },
  {
   "cell_type": "code",
   "execution_count": 13,
   "metadata": {},
   "outputs": [
    {
     "data": {
      "text/html": [
       "<style  type=\"text/css\" >\n",
       "</style><table id=\"T_44aaba1a_71e3_11ea_aee0_3ccd3661c1ec\" ><thead>    <tr>        <th class=\"blank\" ></th>        <th class=\"blank level0\" ></th>        <th class=\"col_heading level0 col0\" >Purchase Count</th>        <th class=\"col_heading level0 col1\" >Item Price</th>        <th class=\"col_heading level0 col2\" >Total Purchase Value</th>    </tr>    <tr>        <th class=\"index_name level0\" >Item ID</th>        <th class=\"index_name level1\" >Item Name</th>        <th class=\"blank\" ></th>        <th class=\"blank\" ></th>        <th class=\"blank\" ></th>    </tr></thead><tbody>\n",
       "                <tr>\n",
       "                        <th id=\"T_44aaba1a_71e3_11ea_aee0_3ccd3661c1eclevel0_row0\" class=\"row_heading level0 row0\" >178</th>\n",
       "                        <th id=\"T_44aaba1a_71e3_11ea_aee0_3ccd3661c1eclevel1_row0\" class=\"row_heading level1 row0\" >Oathbreaker, Last Hope of the Breaking Storm</th>\n",
       "                        <td id=\"T_44aaba1a_71e3_11ea_aee0_3ccd3661c1ecrow0_col0\" class=\"data row0 col0\" >12</td>\n",
       "                        <td id=\"T_44aaba1a_71e3_11ea_aee0_3ccd3661c1ecrow0_col1\" class=\"data row0 col1\" >$4.23</td>\n",
       "                        <td id=\"T_44aaba1a_71e3_11ea_aee0_3ccd3661c1ecrow0_col2\" class=\"data row0 col2\" >$50.76</td>\n",
       "            </tr>\n",
       "            <tr>\n",
       "                        <th id=\"T_44aaba1a_71e3_11ea_aee0_3ccd3661c1eclevel0_row1\" class=\"row_heading level0 row1\" >145</th>\n",
       "                        <th id=\"T_44aaba1a_71e3_11ea_aee0_3ccd3661c1eclevel1_row1\" class=\"row_heading level1 row1\" >Fiery Glass Crusader</th>\n",
       "                        <td id=\"T_44aaba1a_71e3_11ea_aee0_3ccd3661c1ecrow1_col0\" class=\"data row1 col0\" >9</td>\n",
       "                        <td id=\"T_44aaba1a_71e3_11ea_aee0_3ccd3661c1ecrow1_col1\" class=\"data row1 col1\" >$4.58</td>\n",
       "                        <td id=\"T_44aaba1a_71e3_11ea_aee0_3ccd3661c1ecrow1_col2\" class=\"data row1 col2\" >$41.22</td>\n",
       "            </tr>\n",
       "            <tr>\n",
       "                        <th id=\"T_44aaba1a_71e3_11ea_aee0_3ccd3661c1eclevel0_row2\" class=\"row_heading level0 row2\" >108</th>\n",
       "                        <th id=\"T_44aaba1a_71e3_11ea_aee0_3ccd3661c1eclevel1_row2\" class=\"row_heading level1 row2\" >Extraction, Quickblade Of Trembling Hands</th>\n",
       "                        <td id=\"T_44aaba1a_71e3_11ea_aee0_3ccd3661c1ecrow2_col0\" class=\"data row2 col0\" >9</td>\n",
       "                        <td id=\"T_44aaba1a_71e3_11ea_aee0_3ccd3661c1ecrow2_col1\" class=\"data row2 col1\" >$3.53</td>\n",
       "                        <td id=\"T_44aaba1a_71e3_11ea_aee0_3ccd3661c1ecrow2_col2\" class=\"data row2 col2\" >$31.77</td>\n",
       "            </tr>\n",
       "            <tr>\n",
       "                        <th id=\"T_44aaba1a_71e3_11ea_aee0_3ccd3661c1eclevel0_row3\" class=\"row_heading level0 row3\" >82</th>\n",
       "                        <th id=\"T_44aaba1a_71e3_11ea_aee0_3ccd3661c1eclevel1_row3\" class=\"row_heading level1 row3\" >Nirvana</th>\n",
       "                        <td id=\"T_44aaba1a_71e3_11ea_aee0_3ccd3661c1ecrow3_col0\" class=\"data row3 col0\" >9</td>\n",
       "                        <td id=\"T_44aaba1a_71e3_11ea_aee0_3ccd3661c1ecrow3_col1\" class=\"data row3 col1\" >$4.90</td>\n",
       "                        <td id=\"T_44aaba1a_71e3_11ea_aee0_3ccd3661c1ecrow3_col2\" class=\"data row3 col2\" >$44.10</td>\n",
       "            </tr>\n",
       "            <tr>\n",
       "                        <th id=\"T_44aaba1a_71e3_11ea_aee0_3ccd3661c1eclevel0_row4\" class=\"row_heading level0 row4\" >19</th>\n",
       "                        <th id=\"T_44aaba1a_71e3_11ea_aee0_3ccd3661c1eclevel1_row4\" class=\"row_heading level1 row4\" >Pursuit, Cudgel of Necromancy</th>\n",
       "                        <td id=\"T_44aaba1a_71e3_11ea_aee0_3ccd3661c1ecrow4_col0\" class=\"data row4 col0\" >8</td>\n",
       "                        <td id=\"T_44aaba1a_71e3_11ea_aee0_3ccd3661c1ecrow4_col1\" class=\"data row4 col1\" >$1.02</td>\n",
       "                        <td id=\"T_44aaba1a_71e3_11ea_aee0_3ccd3661c1ecrow4_col2\" class=\"data row4 col2\" >$8.16</td>\n",
       "            </tr>\n",
       "    </tbody></table>"
      ],
      "text/plain": [
       "<pandas.io.formats.style.Styler at 0x7fbfa2500160>"
      ]
     },
     "execution_count": 13,
     "metadata": {},
     "output_type": "execute_result"
    }
   ],
   "source": [
    "# Data Frame\n",
    "items = purchase_data[[\"Item ID\", \"Item Name\", \"Price\"]]\n",
    "\n",
    "# Group the item data by item id and item name \n",
    "item_stats = items.groupby([\"Item ID\",\"Item Name\"])\n",
    "\n",
    "# Count the # of times an item has been purchased \n",
    "purchase_count_item = item_stats[\"Price\"].count()\n",
    "\n",
    "# Calculate the purchase value per item \n",
    "purchase_value = (item_stats[\"Price\"].sum()) \n",
    "\n",
    "# Divide for individual price\n",
    "item_price = purchase_value/purchase_count_item\n",
    "\n",
    "# Data Frame\n",
    "most_popular_items = pd.DataFrame({\"Purchase Count\": purchase_count_item, \n",
    "                                   \"Item Price\": item_price,\n",
    "                                   \"Total Purchase Value\":purchase_value})\n",
    "\n",
    "# Sort \n",
    "popular_formatted = most_popular_items.sort_values([\"Purchase Count\"], ascending=False).head()\n",
    "\n",
    "# Format with currency style\n",
    "popular_formatted.style.format({\"Item Price\":\"${:,.2f}\",\n",
    "                                \"Total Purchase Value\":\"${:,.2f}\"})"
   ]
  },
  {
   "cell_type": "markdown",
   "metadata": {},
   "source": [
    "## Most Profitable Items"
   ]
  },
  {
   "cell_type": "markdown",
   "metadata": {},
   "source": [
    "* Sort the above table by total purchase value in descending order\n",
    "\n",
    "\n",
    "* Optional: give the displayed data cleaner formatting\n",
    "\n",
    "\n",
    "* Display a preview of the data frame\n",
    "\n"
   ]
  },
  {
   "cell_type": "code",
   "execution_count": 14,
   "metadata": {
    "scrolled": true
   },
   "outputs": [
    {
     "data": {
      "text/html": [
       "<style  type=\"text/css\" >\n",
       "</style><table id=\"T_4f931774_71e3_11ea_b375_3ccd3661c1ec\" ><thead>    <tr>        <th class=\"blank\" ></th>        <th class=\"blank level0\" ></th>        <th class=\"col_heading level0 col0\" >Purchase Count</th>        <th class=\"col_heading level0 col1\" >Item Price</th>        <th class=\"col_heading level0 col2\" >Total Purchase Value</th>    </tr>    <tr>        <th class=\"index_name level0\" >Item ID</th>        <th class=\"index_name level1\" >Item Name</th>        <th class=\"blank\" ></th>        <th class=\"blank\" ></th>        <th class=\"blank\" ></th>    </tr></thead><tbody>\n",
       "                <tr>\n",
       "                        <th id=\"T_4f931774_71e3_11ea_b375_3ccd3661c1eclevel0_row0\" class=\"row_heading level0 row0\" >178</th>\n",
       "                        <th id=\"T_4f931774_71e3_11ea_b375_3ccd3661c1eclevel1_row0\" class=\"row_heading level1 row0\" >Oathbreaker, Last Hope of the Breaking Storm</th>\n",
       "                        <td id=\"T_4f931774_71e3_11ea_b375_3ccd3661c1ecrow0_col0\" class=\"data row0 col0\" >12</td>\n",
       "                        <td id=\"T_4f931774_71e3_11ea_b375_3ccd3661c1ecrow0_col1\" class=\"data row0 col1\" >$4.23</td>\n",
       "                        <td id=\"T_4f931774_71e3_11ea_b375_3ccd3661c1ecrow0_col2\" class=\"data row0 col2\" >$50.76</td>\n",
       "            </tr>\n",
       "            <tr>\n",
       "                        <th id=\"T_4f931774_71e3_11ea_b375_3ccd3661c1eclevel0_row1\" class=\"row_heading level0 row1\" >82</th>\n",
       "                        <th id=\"T_4f931774_71e3_11ea_b375_3ccd3661c1eclevel1_row1\" class=\"row_heading level1 row1\" >Nirvana</th>\n",
       "                        <td id=\"T_4f931774_71e3_11ea_b375_3ccd3661c1ecrow1_col0\" class=\"data row1 col0\" >9</td>\n",
       "                        <td id=\"T_4f931774_71e3_11ea_b375_3ccd3661c1ecrow1_col1\" class=\"data row1 col1\" >$4.90</td>\n",
       "                        <td id=\"T_4f931774_71e3_11ea_b375_3ccd3661c1ecrow1_col2\" class=\"data row1 col2\" >$44.10</td>\n",
       "            </tr>\n",
       "            <tr>\n",
       "                        <th id=\"T_4f931774_71e3_11ea_b375_3ccd3661c1eclevel0_row2\" class=\"row_heading level0 row2\" >145</th>\n",
       "                        <th id=\"T_4f931774_71e3_11ea_b375_3ccd3661c1eclevel1_row2\" class=\"row_heading level1 row2\" >Fiery Glass Crusader</th>\n",
       "                        <td id=\"T_4f931774_71e3_11ea_b375_3ccd3661c1ecrow2_col0\" class=\"data row2 col0\" >9</td>\n",
       "                        <td id=\"T_4f931774_71e3_11ea_b375_3ccd3661c1ecrow2_col1\" class=\"data row2 col1\" >$4.58</td>\n",
       "                        <td id=\"T_4f931774_71e3_11ea_b375_3ccd3661c1ecrow2_col2\" class=\"data row2 col2\" >$41.22</td>\n",
       "            </tr>\n",
       "            <tr>\n",
       "                        <th id=\"T_4f931774_71e3_11ea_b375_3ccd3661c1eclevel0_row3\" class=\"row_heading level0 row3\" >92</th>\n",
       "                        <th id=\"T_4f931774_71e3_11ea_b375_3ccd3661c1eclevel1_row3\" class=\"row_heading level1 row3\" >Final Critic</th>\n",
       "                        <td id=\"T_4f931774_71e3_11ea_b375_3ccd3661c1ecrow3_col0\" class=\"data row3 col0\" >8</td>\n",
       "                        <td id=\"T_4f931774_71e3_11ea_b375_3ccd3661c1ecrow3_col1\" class=\"data row3 col1\" >$4.88</td>\n",
       "                        <td id=\"T_4f931774_71e3_11ea_b375_3ccd3661c1ecrow3_col2\" class=\"data row3 col2\" >$39.04</td>\n",
       "            </tr>\n",
       "            <tr>\n",
       "                        <th id=\"T_4f931774_71e3_11ea_b375_3ccd3661c1eclevel0_row4\" class=\"row_heading level0 row4\" >103</th>\n",
       "                        <th id=\"T_4f931774_71e3_11ea_b375_3ccd3661c1eclevel1_row4\" class=\"row_heading level1 row4\" >Singed Scalpel</th>\n",
       "                        <td id=\"T_4f931774_71e3_11ea_b375_3ccd3661c1ecrow4_col0\" class=\"data row4 col0\" >8</td>\n",
       "                        <td id=\"T_4f931774_71e3_11ea_b375_3ccd3661c1ecrow4_col1\" class=\"data row4 col1\" >$4.35</td>\n",
       "                        <td id=\"T_4f931774_71e3_11ea_b375_3ccd3661c1ecrow4_col2\" class=\"data row4 col2\" >$34.80</td>\n",
       "            </tr>\n",
       "    </tbody></table>"
      ],
      "text/plain": [
       "<pandas.io.formats.style.Styler at 0x7fbfa257f9b0>"
      ]
     },
     "execution_count": 14,
     "metadata": {},
     "output_type": "execute_result"
    }
   ],
   "source": [
    "# Take the most_popular items data frame and change the sorting to find highest total purchase value\n",
    "popular_formatted = most_popular_items.sort_values([\"Total Purchase Value\"],\n",
    "                                                   ascending=False).head()\n",
    "# Format with currency style\n",
    "popular_formatted.style.format({\"Item Price\":\"${:,.2f}\",\n",
    "                                \"Total Purchase Value\":\"${:,.2f}\"})"
   ]
  },
  {
   "cell_type": "code",
   "execution_count": null,
   "metadata": {},
   "outputs": [],
   "source": []
  }
 ],
 "metadata": {
  "anaconda-cloud": {},
  "kernel_info": {
   "name": "python3"
  },
  "kernelspec": {
   "display_name": "Python [conda env:PythonData]",
   "language": "python",
   "name": "conda-env-PythonData-py"
  },
  "language_info": {
   "codemirror_mode": {
    "name": "ipython",
    "version": 3
   },
   "file_extension": ".py",
   "mimetype": "text/x-python",
   "name": "python",
   "nbconvert_exporter": "python",
   "pygments_lexer": "ipython3",
   "version": "3.6.10"
  },
  "latex_envs": {
   "LaTeX_envs_menu_present": true,
   "autoclose": false,
   "autocomplete": true,
   "bibliofile": "biblio.bib",
   "cite_by": "apalike",
   "current_citInitial": 1,
   "eqLabelWithNumbers": true,
   "eqNumInitial": 1,
   "hotkeys": {
    "equation": "Ctrl-E",
    "itemize": "Ctrl-I"
   },
   "labels_anchors": false,
   "latex_user_defs": false,
   "report_style_numbering": false,
   "user_envs_cfg": false
  },
  "nteract": {
   "version": "0.2.0"
  }
 },
 "nbformat": 4,
 "nbformat_minor": 2
}
